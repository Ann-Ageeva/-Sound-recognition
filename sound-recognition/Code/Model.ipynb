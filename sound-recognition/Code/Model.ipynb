{
 "cells": [
  {
   "cell_type": "code",
   "execution_count": 166,
   "metadata": {},
   "outputs": [],
   "source": [
    "# feature extractoring and preprocessing data\n",
    "import librosa\n",
    "import numpy as np\n",
    "import os\n",
    "import pickle \n",
    "from keras import models\n",
    "\n",
    "# Получаем предобработчик модели\n",
    "with open('scaler.pickle', 'rb') as f:\n",
    "    scaler = pickle.load(f)"
   ]
  },
  {
   "cell_type": "code",
   "execution_count": 167,
   "metadata": {},
   "outputs": [],
   "source": [
    "# Загрузка модели\n",
    "model = models.load_model('CNN.h5')"
   ]
  },
  {
   "cell_type": "code",
   "execution_count": 178,
   "metadata": {},
   "outputs": [],
   "source": [
    "# Извлечение фич \n",
    "def GetFeatures(songname):\n",
    "    y, sr = librosa.load(songname, mono=True, duration=30)\n",
    "    chroma_stft = librosa.feature.chroma_stft(y=y, sr=sr)\n",
    "    spec_cent = librosa.feature.spectral_centroid(y=y, sr=sr)\n",
    "    spec_bw = librosa.feature.spectral_bandwidth(y=y, sr=sr)\n",
    "    rolloff = librosa.feature.spectral_rolloff(y=y, sr=sr)\n",
    "    zcr = librosa.feature.zero_crossing_rate(y)\n",
    "    to_append = f'{np.mean(chroma_stft)} {np.mean(spec_cent)} {np.mean(spec_bw)} {np.mean(rolloff)} {np.mean(zcr)}'   \n",
    "    \n",
    "    SoundArr = np.array(to_append.split())\n",
    "    return SoundArr"
   ]
  },
  {
   "cell_type": "code",
   "execution_count": 207,
   "metadata": {},
   "outputs": [],
   "source": [
    "# Получаем предсказание\n",
    "def GetAnswer(SoundFeatures):\n",
    "    # Предобрабатываем данные\n",
    "    SoundArr_transformed = scaler.transform(SoundFeatures.reshape(1, -1))\n",
    "    # Получаем прогноз\n",
    "    predict = model.predict(SoundArr_transformed)\n",
    "    if np.argmax(predict[0]) == 1:\n",
    "        print(\"дрон, с вероятностью:\",predict[0][1]*100, \"%\")\n",
    "    elif np.argmax(predict[0]) == 0:\n",
    "        print(\"не дрон, с вероятностью:\",predict[0][0]*100, \"%\")"
   ]
  },
  {
   "cell_type": "code",
   "execution_count": 208,
   "metadata": {},
   "outputs": [],
   "source": [
    "# Получаем предсказание для каждой записи\n",
    "def GetAnswers(directory):\n",
    "    for filename in os.listdir(f'{directory}'):\n",
    "        songname = f'{directory}/{filename}'\n",
    "        Features = GetFeatures(songname)\n",
    "        print(f'На записи {songname}', end = \" \")\n",
    "        GetAnswer(Features)"
   ]
  },
  {
   "cell_type": "code",
   "execution_count": 209,
   "metadata": {},
   "outputs": [
    {
     "name": "stdout",
     "output_type": "stream",
     "text": [
      "На записи Test/1_oTTcBwAB.wav дрон, с вероятностью: 99.25280809402466 %\n",
      "На записи Test/5-243459-B-141.wav не дрон, с вероятностью: 99.99997615814209 %\n",
      "На записи Test/5-243459-B-142.wav не дрон, с вероятностью: 100.0 %\n",
      "На записи Test/5-243459-B-143.wav не дрон, с вероятностью: 99.99998807907104 %\n",
      "На записи Test/5-243459-B-144.wav не дрон, с вероятностью: 100.0 %\n",
      "На записи Test/5-243635-A-290.wav не дрон, с вероятностью: 99.10539984703064 %\n",
      "На записи Test/5-243635-A-291.wav не дрон, с вероятностью: 99.89602565765381 %\n"
     ]
    }
   ],
   "source": [
    "GetAnswers('Test')"
   ]
  },
  {
   "cell_type": "code",
   "execution_count": null,
   "metadata": {},
   "outputs": [],
   "source": []
  }
 ],
 "metadata": {
  "kernelspec": {
   "display_name": "Python 3",
   "language": "python",
   "name": "python3"
  },
  "language_info": {
   "codemirror_mode": {
    "name": "ipython",
    "version": 3
   },
   "file_extension": ".py",
   "mimetype": "text/x-python",
   "name": "python",
   "nbconvert_exporter": "python",
   "pygments_lexer": "ipython3",
   "version": "3.7.6"
  }
 },
 "nbformat": 4,
 "nbformat_minor": 4
}
