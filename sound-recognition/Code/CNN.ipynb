{
 "cells": [
  {
   "cell_type": "code",
   "execution_count": 2,
   "metadata": {},
   "outputs": [],
   "source": [
    "# feature extractoring and preprocessing data\n",
    "import librosa\n",
    "import pandas as pd\n",
    "import numpy as np\n",
    "import matplotlib.pyplot as plt\n",
    "%matplotlib inline\n",
    "import os\n",
    "from PIL import Image\n",
    "import pathlib\n",
    "import csv\n",
    "\n",
    "# Preprocessing\n",
    "from sklearn.model_selection import train_test_split\n",
    "from sklearn.preprocessing import LabelEncoder, StandardScaler\n",
    "\n",
    "#Keras\n",
    "import keras\n",
    "\n",
    "import warnings\n",
    "warnings.filterwarnings('ignore')\n"
   ]
  },
  {
   "cell_type": "code",
   "execution_count": 5,
   "metadata": {},
   "outputs": [
    {
     "data": {
      "text/plain": [
       "<Figure size 720x720 with 0 Axes>"
      ]
     },
     "metadata": {},
     "output_type": "display_data"
    }
   ],
   "source": [
    "cmap = plt.get_cmap('inferno')\n",
    "\n",
    "plt.figure(figsize=(10,10))\n",
    "classes = 'Yes_Drone No_Drone'.split()\n",
    "for i in classes:\n",
    "    pathlib.Path(f'img_data/{i}').mkdir(parents=True, exist_ok=True)     \n",
    "    for filename in os.listdir(f'{i}'):\n",
    "        songname = f'{i}/{filename}'\n",
    "        y, sr = librosa.load(songname, mono=True, duration=5)\n",
    "        plt.specgram(y, NFFT=2048, Fs=2, Fc=0, noverlap=128, cmap=cmap, sides='default', mode='default', scale='dB')\n",
    "        plt.axis('off')\n",
    "        plt.savefig(f'img_data/{i}/{filename[:-3].replace(\".\", \"\")}.png')\n",
    "        plt.clf()        "
   ]
  },
  {
   "cell_type": "code",
   "execution_count": 54,
   "metadata": {},
   "outputs": [],
   "source": [
    "header = 'filename chroma_stft spectral_centroid spectral_bandwidth rolloff zero_crossing_rate'\n",
    "header += ' label'\n",
    "header = header.split()"
   ]
  },
  {
   "cell_type": "code",
   "execution_count": 55,
   "metadata": {},
   "outputs": [],
   "source": [
    "file = open('data.csv', 'w', newline='')\n",
    "with file:\n",
    "    writer = csv.writer(file)\n",
    "    writer.writerow(header)\n",
    "classes = 'Yes_Drone No_Drone'.split()\n",
    "for i in classes:\n",
    "    for filename in os.listdir(f'{i}'):\n",
    "        songname = f'{i}/{filename}'\n",
    "        y, sr = librosa.load(songname, mono=True, duration=30)\n",
    "        chroma_stft = librosa.feature.chroma_stft(y=y, sr=sr)\n",
    "        spec_cent = librosa.feature.spectral_centroid(y=y, sr=sr)\n",
    "        spec_bw = librosa.feature.spectral_bandwidth(y=y, sr=sr)\n",
    "        rolloff = librosa.feature.spectral_rolloff(y=y, sr=sr)\n",
    "        zcr = librosa.feature.zero_crossing_rate(y)\n",
    "        to_append = f'{filename} {np.mean(chroma_stft)} {np.mean(spec_cent)} {np.mean(spec_bw)} {np.mean(rolloff)} {np.mean(zcr)}'    \n",
    "        to_append += f' {i}'\n",
    "        file = open('data.csv', 'a', newline='')\n",
    "        with file:\n",
    "            writer = csv.writer(file)\n",
    "            writer.writerow(to_append.split())\n"
   ]
  },
  {
   "cell_type": "code",
   "execution_count": 56,
   "metadata": {},
   "outputs": [
    {
     "data": {
      "text/html": [
       "<div>\n",
       "<style scoped>\n",
       "    .dataframe tbody tr th:only-of-type {\n",
       "        vertical-align: middle;\n",
       "    }\n",
       "\n",
       "    .dataframe tbody tr th {\n",
       "        vertical-align: top;\n",
       "    }\n",
       "\n",
       "    .dataframe thead th {\n",
       "        text-align: right;\n",
       "    }\n",
       "</style>\n",
       "<table border=\"1\" class=\"dataframe\">\n",
       "  <thead>\n",
       "    <tr style=\"text-align: right;\">\n",
       "      <th></th>\n",
       "      <th>filename</th>\n",
       "      <th>chroma_stft</th>\n",
       "      <th>spectral_centroid</th>\n",
       "      <th>spectral_bandwidth</th>\n",
       "      <th>rolloff</th>\n",
       "      <th>zero_crossing_rate</th>\n",
       "      <th>label</th>\n",
       "    </tr>\n",
       "  </thead>\n",
       "  <tbody>\n",
       "    <tr>\n",
       "      <th>0</th>\n",
       "      <td>B_S2_D1_067-bebop_000_.wav</td>\n",
       "      <td>0.605145</td>\n",
       "      <td>2390.183296</td>\n",
       "      <td>2130.183683</td>\n",
       "      <td>5018.671875</td>\n",
       "      <td>0.125966</td>\n",
       "      <td>Yes_Drone</td>\n",
       "    </tr>\n",
       "    <tr>\n",
       "      <th>1</th>\n",
       "      <td>B_S2_D1_067-bebop_001_.wav</td>\n",
       "      <td>0.526925</td>\n",
       "      <td>3183.232455</td>\n",
       "      <td>2058.200449</td>\n",
       "      <td>5713.955078</td>\n",
       "      <td>0.228668</td>\n",
       "      <td>Yes_Drone</td>\n",
       "    </tr>\n",
       "    <tr>\n",
       "      <th>2</th>\n",
       "      <td>B_S2_D1_067-bebop_002_.wav</td>\n",
       "      <td>0.607370</td>\n",
       "      <td>3024.987931</td>\n",
       "      <td>2156.907712</td>\n",
       "      <td>5685.244141</td>\n",
       "      <td>0.197255</td>\n",
       "      <td>Yes_Drone</td>\n",
       "    </tr>\n",
       "    <tr>\n",
       "      <th>3</th>\n",
       "      <td>B_S2_D1_067-bebop_003_.wav</td>\n",
       "      <td>0.631430</td>\n",
       "      <td>3055.299767</td>\n",
       "      <td>2163.135084</td>\n",
       "      <td>5715.869141</td>\n",
       "      <td>0.194195</td>\n",
       "      <td>Yes_Drone</td>\n",
       "    </tr>\n",
       "    <tr>\n",
       "      <th>4</th>\n",
       "      <td>B_S2_D1_067-bebop_004_.wav</td>\n",
       "      <td>0.597745</td>\n",
       "      <td>3267.331920</td>\n",
       "      <td>2100.423525</td>\n",
       "      <td>5808.719576</td>\n",
       "      <td>0.236804</td>\n",
       "      <td>Yes_Drone</td>\n",
       "    </tr>\n",
       "  </tbody>\n",
       "</table>\n",
       "</div>"
      ],
      "text/plain": [
       "                     filename  chroma_stft  spectral_centroid  \\\n",
       "0  B_S2_D1_067-bebop_000_.wav     0.605145        2390.183296   \n",
       "1  B_S2_D1_067-bebop_001_.wav     0.526925        3183.232455   \n",
       "2  B_S2_D1_067-bebop_002_.wav     0.607370        3024.987931   \n",
       "3  B_S2_D1_067-bebop_003_.wav     0.631430        3055.299767   \n",
       "4  B_S2_D1_067-bebop_004_.wav     0.597745        3267.331920   \n",
       "\n",
       "   spectral_bandwidth      rolloff  zero_crossing_rate      label  \n",
       "0         2130.183683  5018.671875            0.125966  Yes_Drone  \n",
       "1         2058.200449  5713.955078            0.228668  Yes_Drone  \n",
       "2         2156.907712  5685.244141            0.197255  Yes_Drone  \n",
       "3         2163.135084  5715.869141            0.194195  Yes_Drone  \n",
       "4         2100.423525  5808.719576            0.236804  Yes_Drone  "
      ]
     },
     "execution_count": 56,
     "metadata": {},
     "output_type": "execute_result"
    }
   ],
   "source": [
    "data = pd.read_csv('data.csv')\n",
    "data.head()"
   ]
  },
  {
   "cell_type": "code",
   "execution_count": 57,
   "metadata": {},
   "outputs": [
    {
     "data": {
      "text/plain": [
       "(2735, 7)"
      ]
     },
     "execution_count": 57,
     "metadata": {},
     "output_type": "execute_result"
    }
   ],
   "source": [
    "data.shape"
   ]
  },
  {
   "cell_type": "code",
   "execution_count": 58,
   "metadata": {},
   "outputs": [],
   "source": [
    "# Dropping unneccesary columns\n",
    "data = data.drop(['filename'],axis=1)\n"
   ]
  },
  {
   "cell_type": "code",
   "execution_count": 59,
   "metadata": {},
   "outputs": [],
   "source": [
    "label_list = data.iloc[:, -1]\n",
    "encoder = LabelEncoder()\n",
    "y = encoder.fit_transform(label_list)\n"
   ]
  },
  {
   "cell_type": "code",
   "execution_count": 60,
   "metadata": {},
   "outputs": [],
   "source": [
    "scaler = StandardScaler()\n",
    "X = scaler.fit_transform(np.array(data.iloc[:, :-1], dtype = float))"
   ]
  },
  {
   "cell_type": "code",
   "execution_count": 61,
   "metadata": {},
   "outputs": [],
   "source": [
    "X_train, X_test, y_train, y_test = train_test_split(X, y, test_size=0.2)"
   ]
  },
  {
   "cell_type": "code",
   "execution_count": 62,
   "metadata": {},
   "outputs": [],
   "source": [
    "from keras import models\n",
    "from keras import layers\n",
    "\n",
    "model = models.Sequential()\n",
    "model.add(layers.Dense(256, activation='relu', input_shape=(X_train.shape[1],)))\n",
    "\n",
    "model.add(layers.Dense(128, activation='relu'))\n",
    "\n",
    "model.add(layers.Dense(64, activation='relu'))\n",
    "\n",
    "model.add(layers.Dense(2, activation='softmax'))"
   ]
  },
  {
   "cell_type": "code",
   "execution_count": 63,
   "metadata": {},
   "outputs": [],
   "source": [
    "model.compile(optimizer='adam',\n",
    "              loss='sparse_categorical_crossentropy',\n",
    "              metrics=['accuracy'])"
   ]
  },
  {
   "cell_type": "code",
   "execution_count": 64,
   "metadata": {},
   "outputs": [
    {
     "name": "stdout",
     "output_type": "stream",
     "text": [
      "Epoch 1/20\n",
      "2188/2188 [==============================] - 0s 129us/step - loss: 0.5103 - accuracy: 0.7655\n",
      "Epoch 2/20\n",
      "2188/2188 [==============================] - 0s 28us/step - loss: 0.4276 - accuracy: 0.8158\n",
      "Epoch 3/20\n",
      "2188/2188 [==============================] - 0s 24us/step - loss: 0.4063 - accuracy: 0.8236\n",
      "Epoch 4/20\n",
      "2188/2188 [==============================] - 0s 26us/step - loss: 0.3979 - accuracy: 0.8272\n",
      "Epoch 5/20\n",
      "2188/2188 [==============================] - 0s 25us/step - loss: 0.4022 - accuracy: 0.8176\n",
      "Epoch 6/20\n",
      "2188/2188 [==============================] - 0s 27us/step - loss: 0.3958 - accuracy: 0.8245\n",
      "Epoch 7/20\n",
      "2188/2188 [==============================] - 0s 28us/step - loss: 0.3814 - accuracy: 0.8300\n",
      "Epoch 8/20\n",
      "2188/2188 [==============================] - 0s 27us/step - loss: 0.3753 - accuracy: 0.8304\n",
      "Epoch 9/20\n",
      "2188/2188 [==============================] - 0s 29us/step - loss: 0.3698 - accuracy: 0.8355\n",
      "Epoch 10/20\n",
      "2188/2188 [==============================] - 0s 28us/step - loss: 0.3643 - accuracy: 0.8405\n",
      "Epoch 11/20\n",
      "2188/2188 [==============================] - 0s 29us/step - loss: 0.3643 - accuracy: 0.8464\n",
      "Epoch 12/20\n",
      "2188/2188 [==============================] - 0s 29us/step - loss: 0.3529 - accuracy: 0.8396\n",
      "Epoch 13/20\n",
      "2188/2188 [==============================] - 0s 33us/step - loss: 0.3461 - accuracy: 0.8533\n",
      "Epoch 14/20\n",
      "2188/2188 [==============================] - 0s 31us/step - loss: 0.3554 - accuracy: 0.8505\n",
      "Epoch 15/20\n",
      "2188/2188 [==============================] - 0s 27us/step - loss: 0.3274 - accuracy: 0.8588\n",
      "Epoch 16/20\n",
      "2188/2188 [==============================] - 0s 26us/step - loss: 0.3229 - accuracy: 0.8615\n",
      "Epoch 17/20\n",
      "2188/2188 [==============================] - 0s 31us/step - loss: 0.3195 - accuracy: 0.8661\n",
      "Epoch 18/20\n",
      "2188/2188 [==============================] - 0s 36us/step - loss: 0.3014 - accuracy: 0.8711\n",
      "Epoch 19/20\n",
      "2188/2188 [==============================] - 0s 32us/step - loss: 0.2982 - accuracy: 0.8739\n",
      "Epoch 20/20\n",
      "2188/2188 [==============================] - 0s 31us/step - loss: 0.2993 - accuracy: 0.8697\n"
     ]
    }
   ],
   "source": [
    "history = model.fit(X_train,\n",
    "                    y_train,\n",
    "                    epochs=20,\n",
    "                    batch_size=128)"
   ]
  },
  {
   "cell_type": "code",
   "execution_count": 65,
   "metadata": {},
   "outputs": [
    {
     "name": "stdout",
     "output_type": "stream",
     "text": [
      "547/547 [==============================] - 0s 225us/step\n"
     ]
    }
   ],
   "source": [
    "test_loss, test_acc = model.evaluate(X_test,y_test)"
   ]
  },
  {
   "cell_type": "code",
   "execution_count": 66,
   "metadata": {},
   "outputs": [
    {
     "name": "stdout",
     "output_type": "stream",
     "text": [
      "test_loss:  0.33140150458982703\n",
      "test_acc:  0.8720292448997498\n"
     ]
    }
   ],
   "source": [
    "print('test_loss: ',test_loss)\n",
    "print('test_acc: ',test_acc)"
   ]
  },
  {
   "cell_type": "code",
   "execution_count": 67,
   "metadata": {},
   "outputs": [],
   "source": [
    "x_val = X_train[:200]\n",
    "partial_x_train = X_train[200:]\n",
    "\n",
    "y_val = y_train[:200]\n",
    "partial_y_train = y_train[200:]"
   ]
  },
  {
   "cell_type": "code",
   "execution_count": 68,
   "metadata": {},
   "outputs": [
    {
     "name": "stdout",
     "output_type": "stream",
     "text": [
      "Train on 1988 samples, validate on 200 samples\n",
      "Epoch 1/30\n",
      "1988/1988 [==============================] - 0s 240us/step - loss: 0.6410 - accuracy: 0.6363 - val_loss: 0.5678 - val_accuracy: 0.7700\n",
      "Epoch 2/30\n",
      "1988/1988 [==============================] - 0s 43us/step - loss: 0.5110 - accuracy: 0.7832 - val_loss: 0.5343 - val_accuracy: 0.7950\n",
      "Epoch 3/30\n",
      "1988/1988 [==============================] - 0s 41us/step - loss: 0.4438 - accuracy: 0.8144 - val_loss: 0.5656 - val_accuracy: 0.7650\n",
      "Epoch 4/30\n",
      "1988/1988 [==============================] - 0s 40us/step - loss: 0.4310 - accuracy: 0.8164 - val_loss: 0.5563 - val_accuracy: 0.7450\n",
      "Epoch 5/30\n",
      "1988/1988 [==============================] - 0s 41us/step - loss: 0.4132 - accuracy: 0.8244 - val_loss: 0.5217 - val_accuracy: 0.7600\n",
      "Epoch 6/30\n",
      "1988/1988 [==============================] - 0s 41us/step - loss: 0.4021 - accuracy: 0.8229 - val_loss: 0.4919 - val_accuracy: 0.7750\n",
      "Epoch 7/30\n",
      "1988/1988 [==============================] - 0s 42us/step - loss: 0.3950 - accuracy: 0.8244 - val_loss: 0.4766 - val_accuracy: 0.7650\n",
      "Epoch 8/30\n",
      "1988/1988 [==============================] - 0s 43us/step - loss: 0.3893 - accuracy: 0.8244 - val_loss: 0.4645 - val_accuracy: 0.7750\n",
      "Epoch 9/30\n",
      "1988/1988 [==============================] - 0s 49us/step - loss: 0.3842 - accuracy: 0.8239 - val_loss: 0.4833 - val_accuracy: 0.7850\n",
      "Epoch 10/30\n",
      "1988/1988 [==============================] - 0s 47us/step - loss: 0.3820 - accuracy: 0.8275 - val_loss: 0.4633 - val_accuracy: 0.7700\n",
      "Epoch 11/30\n",
      "1988/1988 [==============================] - 0s 47us/step - loss: 0.3782 - accuracy: 0.8340 - val_loss: 0.4659 - val_accuracy: 0.7750\n",
      "Epoch 12/30\n",
      "1988/1988 [==============================] - 0s 47us/step - loss: 0.3713 - accuracy: 0.8325 - val_loss: 0.4686 - val_accuracy: 0.7900\n",
      "Epoch 13/30\n",
      "1988/1988 [==============================] - 0s 49us/step - loss: 0.3732 - accuracy: 0.8330 - val_loss: 0.4715 - val_accuracy: 0.7850\n",
      "Epoch 14/30\n",
      "1988/1988 [==============================] - 0s 46us/step - loss: 0.3690 - accuracy: 0.8385 - val_loss: 0.4510 - val_accuracy: 0.7850\n",
      "Epoch 15/30\n",
      "1988/1988 [==============================] - 0s 51us/step - loss: 0.3671 - accuracy: 0.8390 - val_loss: 0.4551 - val_accuracy: 0.7850\n",
      "Epoch 16/30\n",
      "1988/1988 [==============================] - 0s 47us/step - loss: 0.3603 - accuracy: 0.8385 - val_loss: 0.4562 - val_accuracy: 0.7950\n",
      "Epoch 17/30\n",
      "1988/1988 [==============================] - 0s 44us/step - loss: 0.3593 - accuracy: 0.8415 - val_loss: 0.4447 - val_accuracy: 0.7850\n",
      "Epoch 18/30\n",
      "1988/1988 [==============================] - 0s 45us/step - loss: 0.3570 - accuracy: 0.8390 - val_loss: 0.4431 - val_accuracy: 0.7900\n",
      "Epoch 19/30\n",
      "1988/1988 [==============================] - 0s 46us/step - loss: 0.3506 - accuracy: 0.8415 - val_loss: 0.4303 - val_accuracy: 0.8000\n",
      "Epoch 20/30\n",
      "1988/1988 [==============================] - 0s 48us/step - loss: 0.3459 - accuracy: 0.8481 - val_loss: 0.4423 - val_accuracy: 0.7950\n",
      "Epoch 21/30\n",
      "1988/1988 [==============================] - 0s 49us/step - loss: 0.3421 - accuracy: 0.8506 - val_loss: 0.4266 - val_accuracy: 0.8000\n",
      "Epoch 22/30\n",
      "1988/1988 [==============================] - 0s 45us/step - loss: 0.3366 - accuracy: 0.8556 - val_loss: 0.4292 - val_accuracy: 0.7950\n",
      "Epoch 23/30\n",
      "1988/1988 [==============================] - 0s 47us/step - loss: 0.3304 - accuracy: 0.8561 - val_loss: 0.4038 - val_accuracy: 0.8200\n",
      "Epoch 24/30\n",
      "1988/1988 [==============================] - 0s 47us/step - loss: 0.3275 - accuracy: 0.8556 - val_loss: 0.4121 - val_accuracy: 0.8150\n",
      "Epoch 25/30\n",
      "1988/1988 [==============================] - 0s 47us/step - loss: 0.3241 - accuracy: 0.8571 - val_loss: 0.4024 - val_accuracy: 0.8150\n",
      "Epoch 26/30\n",
      "1988/1988 [==============================] - 0s 43us/step - loss: 0.3155 - accuracy: 0.8592 - val_loss: 0.3925 - val_accuracy: 0.8300\n",
      "Epoch 27/30\n",
      "1988/1988 [==============================] - 0s 41us/step - loss: 0.3127 - accuracy: 0.8657 - val_loss: 0.3895 - val_accuracy: 0.8350\n",
      "Epoch 28/30\n",
      "1988/1988 [==============================] - 0s 40us/step - loss: 0.3044 - accuracy: 0.8672 - val_loss: 0.3827 - val_accuracy: 0.8350\n",
      "Epoch 29/30\n",
      "1988/1988 [==============================] - 0s 44us/step - loss: 0.3012 - accuracy: 0.8672 - val_loss: 0.3764 - val_accuracy: 0.8450\n",
      "Epoch 30/30\n",
      "1988/1988 [==============================] - 0s 51us/step - loss: 0.2960 - accuracy: 0.8778 - val_loss: 0.3631 - val_accuracy: 0.8450\n",
      "547/547 [==============================] - 0s 57us/step\n"
     ]
    }
   ],
   "source": [
    "model = models.Sequential()\n",
    "model.add(layers.Dense(512, activation='relu', input_shape=(X_train.shape[1],)))\n",
    "model.add(layers.Dense(256, activation='relu'))\n",
    "model.add(layers.Dense(128, activation='relu'))\n",
    "model.add(layers.Dense(64, activation='relu'))\n",
    "model.add(layers.Dense(2, activation='softmax'))\n",
    "\n",
    "model.compile(optimizer='adam',\n",
    "              loss='sparse_categorical_crossentropy',\n",
    "              metrics=['accuracy'])\n",
    "\n",
    "model.fit(partial_x_train,\n",
    "          partial_y_train,\n",
    "          epochs=30,\n",
    "          batch_size=512,\n",
    "          validation_data=(x_val, y_val))\n",
    "results = model.evaluate(X_test, y_test)"
   ]
  },
  {
   "cell_type": "code",
   "execution_count": 69,
   "metadata": {},
   "outputs": [
    {
     "data": {
      "text/plain": [
       "[0.34751122443506005, 0.866544783115387]"
      ]
     },
     "execution_count": 69,
     "metadata": {},
     "output_type": "execute_result"
    }
   ],
   "source": [
    "results"
   ]
  },
  {
   "cell_type": "code",
   "execution_count": 70,
   "metadata": {},
   "outputs": [],
   "source": [
    "import pickle"
   ]
  },
  {
   "cell_type": "code",
   "execution_count": 71,
   "metadata": {},
   "outputs": [],
   "source": [
    "with open('scaler.pickle', 'wb') as f:\n",
    "    pickle.dump(scaler, f)"
   ]
  },
  {
   "cell_type": "code",
   "execution_count": 72,
   "metadata": {},
   "outputs": [],
   "source": [
    "model.save('CNN.h5')"
   ]
  },
  {
   "cell_type": "code",
   "execution_count": null,
   "metadata": {},
   "outputs": [],
   "source": []
  }
 ],
 "metadata": {
  "kernelspec": {
   "display_name": "Python 3",
   "language": "python",
   "name": "python3"
  },
  "language_info": {
   "codemirror_mode": {
    "name": "ipython",
    "version": 3
   },
   "file_extension": ".py",
   "mimetype": "text/x-python",
   "name": "python",
   "nbconvert_exporter": "python",
   "pygments_lexer": "ipython3",
   "version": "3.7.6"
  }
 },
 "nbformat": 4,
 "nbformat_minor": 4
}
